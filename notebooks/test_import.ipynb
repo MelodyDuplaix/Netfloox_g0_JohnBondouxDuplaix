{
 "cells": [
  {
   "cell_type": "code",
   "execution_count": 1,
   "metadata": {},
   "outputs": [],
   "source": [
    "from sqlalchemy import create_engine\n",
    "import pandas as pd\n",
    "from dotenv import load_dotenv\n",
    "import os"
   ]
  },
  {
   "cell_type": "code",
   "execution_count": 2,
   "metadata": {},
   "outputs": [],
   "source": [
    "load_dotenv()  # take environment variables from .env.\n",
    "database_url = os.getenv(\"DATABASE_URL\")\n",
    "engine = create_engine(database_url) "
   ]
  },
  {
   "cell_type": "code",
   "execution_count": 3,
   "metadata": {},
   "outputs": [],
   "source": [
    "\n",
    "from sqlalchemy import null\n",
    "\n",
    "\n",
    "df_list = pd.read_csv(\"data/title.crew.tsv\", sep=\"\\t\", names=[\"tconst\",\"directors\",\"writers\"], header=0, chunksize=20000)\n",
    "with engine.connect() as connection:\n",
    "    with connection.begin():\n",
    "        for df in df_list:\n",
    "            df.to_sql('title_crew', \n",
    "                        connection, \n",
    "                        schema='sebastien', \n",
    "                        if_exists='append', \n",
    "                        index=False)"
   ]
  },
  {
   "cell_type": "code",
   "execution_count": 5,
   "metadata": {},
   "outputs": [],
   "source": [
    "\n",
    "from sqlalchemy import null\n",
    "\n",
    "\n",
    "df_list = pd.read_csv(\"data/title.episode.tsv\", sep=\"\\t\", names=[\"tconst\",\"parenttconst\",\"seasonnumber\",\"episodenumber\"], header=0, chunksize=20000)\n",
    "with engine.connect() as connection:\n",
    "    with connection.begin():\n",
    "        for df in df_list:\n",
    "            df[\"seasonnumber\"] = df[\"seasonnumber\"].replace(\"\\\\N\", None)\n",
    "            df[\"episodenumber\"] = df[\"episodenumber\"].replace(\"\\\\N\", None)\n",
    "            df.to_sql('title_episode', \n",
    "                        connection, \n",
    "                        schema='sebastien', \n",
    "                        if_exists='append', \n",
    "                        index=False)"
   ]
  },
  {
   "cell_type": "code",
   "execution_count": 15,
   "metadata": {},
   "outputs": [],
   "source": [
    "\n",
    "from sqlalchemy import null\n",
    "\n",
    "\n",
    "df_list = pd.read_csv(\"data/title.akas.tsv\", sep=\"\\t\", names=[\"tconst\",\"ordering\",\"title\",\"region\",\"language\",\"types\",\"attributes\",\"isoriginaltitle\"], header=0, chunksize=20000)\n",
    "with engine.connect() as connection:\n",
    "    with connection.begin():\n",
    "        for df in df_list:\n",
    "            df[\"ordering\"] = df[\"ordering\"].replace(\"\\\\N\", None)\n",
    "            df[\"types\"] = df[\"types\"].astype(bool)\n",
    "            df[\"isoriginaltitle\"] = df[\"isoriginaltitle\"].astype(bool)\n",
    "            df.to_sql('title_akas', \n",
    "                        connection, \n",
    "                        schema='sebastien', \n",
    "                        if_exists='append', \n",
    "                        index=False)"
   ]
  },
  {
   "cell_type": "code",
   "execution_count": null,
   "metadata": {},
   "outputs": [],
   "source": [
    "from sqlalchemy import String, null\n",
    "\n",
    "\n",
    "df_list = pd.read_csv(\"data/title.ratings.tsv\", sep=\"\\t\", names=[\"tconst\",\"averagerating\",\"numvotes\"], header=0, nrows=200000)\n",
    "with engine.connect() as connection:\n",
    "    with connection.begin():\n",
    "        df_list[\"averagerating\"] = df_list[\"averagerating\"].replace(\"\\\\NN\", null)\n",
    "        df_list[\"numvotes\"] = df_list[\"numvotes\"].replace(\"\\\\NN\", null)\n",
    "        print(\"un chunck\")\n",
    "        df_list.to_sql('title_ratings', \n",
    "                    connection, \n",
    "                    schema='sebastien', \n",
    "                    if_exists='append', \n",
    "                    index=False)"
   ]
  },
  {
   "cell_type": "code",
   "execution_count": null,
   "metadata": {},
   "outputs": [],
   "source": [
    "from sqlalchemy import String, null\n",
    "\n",
    "\n",
    "df_list = pd.read_csv(\"data/title.basics.tsv\", sep=\"\\t\", names=[\"tconst\",\"titletype\",\"primarytitle\",\"originaltitle\",\"isadult\",\"startyear\",\"endyear\",\"runtimeminutes\",\"genres\"], header=0, nrows=200000)\n",
    "with engine.connect() as connection:\n",
    "    with connection.begin():\n",
    "        df_list[\"titletype\"] = df_list[\"titletype\"].replace(\"\\\\N\", None)\n",
    "        df_list[\"primarytitle\"] = df_list[\"primarytitle\"].replace(\"\\\\N\", None)\n",
    "        df_list[\"originaltitle\"] = df_list[\"originaltitle\"].replace(\"\\\\N\", None)\n",
    "        df_list[\"isadult\"] = df_list[\"isadult\"].replace(\"\\\\N\", None).astype(bool)\n",
    "        df_list[\"startyear\"] = df_list[\"startyear\"].replace(\"\\\\N\", None)\n",
    "        df_list[\"endyear\"] = df_list[\"endyear\"].replace(\"\\\\N\", None)\n",
    "        df_list[\"runtimeminutes\"] = df_list[\"runtimeminutes\"].replace(\"\\\\N\", None)\n",
    "        df_list[\"genres\"] = df_list[\"genres\"].replace(\"\\\\N\", None)\n",
    "        df_list.to_sql('title_basics', \n",
    "                    connection, \n",
    "                    schema='sebastien', \n",
    "                    if_exists='append', \n",
    "                    index=False)"
   ]
  },
  {
   "cell_type": "code",
   "execution_count": null,
   "metadata": {},
   "outputs": [],
   "source": [
    "df_basics = pd.read_csv(\"data/title.basics.tsv\", sep='\\\\t', names=[\"tconst\",\"titletype\",\"primarytitle\",\"originaltitle\",\"isadult\",\"startyear\",\"endyear\",\"runtimeminutes\",\"genres\"], header=0)\n",
    "df_basics.head()"
   ]
  },
  {
   "cell_type": "code",
   "execution_count": null,
   "metadata": {},
   "outputs": [],
   "source": [
    "df_ratings = pd.read_csv('data/title.ratings.tsv', sep='\\\\t', header=0, names=['tconst', 'averagerating', 'numvotes'])\n",
    "df_ratings.head()"
   ]
  },
  {
   "cell_type": "code",
   "execution_count": 8,
   "metadata": {},
   "outputs": [],
   "source": [
    "df = df_basics.merge(df_ratings, on='tconst', how='left')"
   ]
  },
  {
   "cell_type": "code",
   "execution_count": null,
   "metadata": {},
   "outputs": [],
   "source": [
    "df.head()"
   ]
  },
  {
   "cell_type": "code",
   "execution_count": null,
   "metadata": {},
   "outputs": [],
   "source": [
    "for columns in df.columns:\n",
    "    df[columns] = df[columns].replace(\"\\\\N\", None)\n",
    "df.head()"
   ]
  },
  {
   "cell_type": "code",
   "execution_count": 11,
   "metadata": {},
   "outputs": [],
   "source": [
    "df.to_csv(\"data/test_import.csv\", index=False)"
   ]
  },
  {
   "cell_type": "code",
   "execution_count": 4,
   "metadata": {},
   "outputs": [],
   "source": [
    "df = pd.read_csv(\"data/test_import.csv\", chunksize=100000)"
   ]
  },
  {
   "cell_type": "code",
   "execution_count": null,
   "metadata": {},
   "outputs": [],
   "source": [
    "d.dtypes"
   ]
  },
  {
   "cell_type": "code",
   "execution_count": null,
   "metadata": {},
   "outputs": [],
   "source": [
    "with engine.connect() as connection:\n",
    "    with connection.begin():\n",
    "        for d in df:\n",
    "            # Find rows with tab issues\n",
    "            mask = d['primarytitle'].str.contains('\\t', na=False)\n",
    "            if mask.any():\n",
    "                # Get all columns that need shifting\n",
    "                affected_rows = d[mask]\n",
    "                # Split and realign all columns\n",
    "                split_rows = affected_rows['primarytitle'].str.split('\\t', expand=True)\n",
    "                d.loc[mask, 'primarytitle'] = split_rows[0]\n",
    "                d.loc[mask, 'originaltitle'] = split_rows[1]\n",
    "                d.loc[mask, 'isadult'] = affected_rows['originaltitle']\n",
    "                d.loc[mask, 'startyear'] = affected_rows['isadult']\n",
    "                d.loc[mask, 'endyear'] = affected_rows['startyear']\n",
    "                d.loc[mask, 'runtimeminutes'] = affected_rows['endyear']  # Current genres becomes runtimeminutes\n",
    "                d.loc[mask, 'genres'] = affected_rows['runtimeminutes']  # Current runtimeminutes becomes genres\n",
    "                d.loc[mask, 'averagerating'] = affected_rows['genres']  # Current genres becomes averagerating\n",
    "                d.loc[mask, 'numvotes'] = affected_rows['averagerating']  # Current averagerating becomes numvotes\n",
    "            \n",
    "            d[\"isadult\"] = d[\"isadult\"].astype(bool)\n",
    "            d[\"genres\"] = d[\"genres\"].astype(str)\n",
    "            \n",
    "            d.to_sql('title_basics', \n",
    "                    connection, \n",
    "                    schema='sebastien', \n",
    "                    if_exists='append', \n",
    "                    index=False)\n"
   ]
  }
 ],
 "metadata": {
  "kernelspec": {
   "display_name": "venv",
   "language": "python",
   "name": "python3"
  },
  "language_info": {
   "codemirror_mode": {
    "name": "ipython",
    "version": 3
   },
   "file_extension": ".py",
   "mimetype": "text/x-python",
   "name": "python",
   "nbconvert_exporter": "python",
   "pygments_lexer": "ipython3",
   "version": "3.12.6"
  }
 },
 "nbformat": 4,
 "nbformat_minor": 2
}
