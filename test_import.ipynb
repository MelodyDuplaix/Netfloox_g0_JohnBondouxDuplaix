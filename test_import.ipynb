{
 "cells": [
  {
   "cell_type": "code",
   "execution_count": 1,
   "metadata": {},
   "outputs": [],
   "source": [
    "from sqlalchemy import create_engine\n",
    "import pandas as pd\n",
    "from dotenv import load_dotenv\n",
    "import os"
   ]
  },
  {
   "cell_type": "code",
   "execution_count": 8,
   "metadata": {},
   "outputs": [],
   "source": [
    "load_dotenv()  # take environment variables from .env.\n",
    "database_url = os.getenv(\"DATABASE_URL\")\n",
    "engine = create_engine(database_url) "
   ]
  },
  {
   "cell_type": "code",
   "execution_count": 12,
   "metadata": {},
   "outputs": [
    {
     "name": "stdout",
     "output_type": "stream",
     "text": [
      "un chunck\n"
     ]
    }
   ],
   "source": [
    "\n",
    "from sqlalchemy import null\n",
    "\n",
    "\n",
    "df_list = pd.read_csv(\"data/name.basics.tsv\", sep=\"\\t\", names=[\"nconst\",\"primaryname\",\"birthyear\",\"deathyear\",\"primaryprofession\",\"knownfortitles\"], header=0, nrows=200000)\n",
    "with engine.connect() as connection:\n",
    "    with connection.begin():\n",
    "        df_list[\"birthyear\"] = df_list[\"birthyear\"].replace(\"\\\\N\", None)\n",
    "        df_list[\"deathyear\"] = df_list[\"deathyear\"].replace(\"\\\\N\", None)\n",
    "        print(\"un chunck\")\n",
    "        df_list.to_sql('name_basics', \n",
    "                    connection, \n",
    "                    schema='sebastien', \n",
    "                    if_exists='append', \n",
    "                    index=False)"
   ]
  }
 ],
 "metadata": {
  "kernelspec": {
   "display_name": "venv",
   "language": "python",
   "name": "python3"
  },
  "language_info": {
   "codemirror_mode": {
    "name": "ipython",
    "version": 3
   },
   "file_extension": ".py",
   "mimetype": "text/x-python",
   "name": "python",
   "nbconvert_exporter": "python",
   "pygments_lexer": "ipython3",
   "version": "3.12.6"
  }
 },
 "nbformat": 4,
 "nbformat_minor": 2
}
